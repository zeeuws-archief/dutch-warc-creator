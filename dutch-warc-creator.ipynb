{
 "cells": [
  {
   "cell_type": "markdown",
   "metadata": {},
   "source": [
    "## **WARC creator voor internet archieven 🌏** \n",
    "\n",
    "**Welkom!**\n",
    "\n",
    "Dit is een tool om WARC-bestanden te creëren vanuit URL's. In het voorbeeld is een snapshot gebruikt van *The Internet Archive*. \n",
    "\n",
    "- Volg de stappen om de tool te configureren\n",
    "- Voer het script uit door te bovenaan deze pagina te klikken op 'run all'\n",
    "- Controleer of het genereren van een WARC-bestand is gelukt, door te bestandslocatie die is ingegeven bij `path` te controleren\n",
    "\n",
    "Bron: https://pypi.org/project/warcio/\n",
    "https://github.com/webrecorder/warcit \n"
   ]
  },
  {
   "cell_type": "markdown",
   "metadata": {},
   "source": [
    "## Configuratie\n",
    "- Kies een locatie waar het WARC-bestand terechtkomt na creatie en plak deze achter `path`  (zorg dat het pad tussen aanhalingstekens staat)\n",
    "\n",
    "```path = 'C:\\\\Gebruikers\\\\Naam van gebruiker\\\\Bureaublad'```\n",
    "\n",
    "- Kies een naam voor het bestand dat wordt gecreëerd (zorg dat de bestandsnaam tussen aanhalingstekens staat)\n",
    "\n",
    "\n",
    "```bestandsnaam = 'voorbeeldnaam.warc'``` \n",
    "\n",
    "- Voer de URL in van de bron waaruit een WARC-bestand moet worden gegenereerd (zorg dat het pad tussen aanhalingstekens staat)\n",
    "\n",
    "\n",
    "```url = 'https://voorbeeldwebsite.nl/'``` (zorg dat het pad tussen aanhalingstekens staat)\n"
   ]
  },
  {
   "cell_type": "code",
   "execution_count": 3,
   "metadata": {},
   "outputs": [],
   "source": [
    "path = 'C:\\\\Gebruikers\\\\Naam van gebruiker\\\\Bureaublad'\n",
    "\n",
    "bestandsnaam = 'voorbeeldnaam.warc'\n",
    "\n",
    "url = 'https://web.archive.org/web/20230511183731/https://www.zeeuwsarchief.nl/'"
   ]
  },
  {
   "cell_type": "markdown",
   "metadata": {},
   "source": [
    "## Code"
   ]
  },
  {
   "cell_type": "code",
   "execution_count": 4,
   "metadata": {},
   "outputs": [
    {
     "name": "stdout",
     "output_type": "stream",
     "text": [
      "Defaulting to user installation because normal site-packages is not writeable\n",
      "Requirement already satisfied: warcio in c:\\users\\m.valckx\\appdata\\roaming\\python\\python311\\site-packages (1.7.4)\n",
      "Requirement already satisfied: six in c:\\programdata\\anaconda3\\lib\\site-packages (from warcio) (1.16.0)\n"
     ]
    }
   ],
   "source": [
    "# benodigde modules \n",
    "!pip install warcio\n",
    "\n",
    "from warcio.warcwriter import WARCWriter\n",
    "from warcio.statusandheaders import StatusAndHeaders\n",
    "\n",
    "import requests\n",
    "import os\n",
    "\n",
    "url1 = url\n",
    "url2 = url"
   ]
  },
  {
   "cell_type": "code",
   "execution_count": 5,
   "metadata": {},
   "outputs": [],
   "source": [
    "# set path\n",
    "os.chdir(path) "
   ]
  },
  {
   "cell_type": "code",
   "execution_count": 6,
   "metadata": {},
   "outputs": [],
   "source": [
    "# functie voor WARC creatie\n",
    "with open(bestandsnaam, 'wb') as output:\n",
    "    writer = WARCWriter(output, gzip=True)\n",
    "\n",
    "    resp = requests.get(url1,\n",
    "                        headers={'Accept-Encoding': 'identity'},\n",
    "                        stream=True)\n",
    "\n",
    "    # get raw headers from urllib3\n",
    "    headers_list = resp.raw.headers.items()\n",
    "\n",
    "    http_headers = StatusAndHeaders('200 OK', headers_list, protocol='HTTP/1.0')\n",
    "\n",
    "    record = writer.create_warc_record(url2,\n",
    "                                       'response', payload=resp.raw,\n",
    "                                        http_headers=http_headers)\n",
    "\n",
    "    writer.write_record(record)"
   ]
  }
 ],
 "metadata": {
  "kernelspec": {
   "display_name": "base",
   "language": "python",
   "name": "python3"
  },
  "language_info": {
   "codemirror_mode": {
    "name": "ipython",
    "version": 3
   },
   "file_extension": ".py",
   "mimetype": "text/x-python",
   "name": "python",
   "nbconvert_exporter": "python",
   "pygments_lexer": "ipython3",
   "version": "3.11.4"
  },
  "orig_nbformat": 4
 },
 "nbformat": 4,
 "nbformat_minor": 2
}
